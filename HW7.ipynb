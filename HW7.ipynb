{
 "cells": [
  {
   "cell_type": "markdown",
   "metadata": {},
   "source": [
    "## Niger Little - Poole\n",
    "### nl2418"
   ]
  },
  {
   "cell_type": "markdown",
   "metadata": {},
   "source": [
    "<B>1.</B> For R > 0 fixed, consider the probability density function\n",
    "$$ f(x) = \\frac{4}{πR^2}\\sqrt{R^2-x^2} ,x ∈ [0, R] $$ \n",
    "Give an Acceptance-Rejection algorithm for generating samples X distributed as f; give\n",
    "the value of c."
   ]
  },
  {
   "cell_type": "markdown",
   "metadata": {},
   "source": [
    "#### response:\n",
    "\n",
    "$g(x) =R^2-x^2 $\n",
    "\n",
    "so $ \\frac{1}{c} = \\frac{f(x)}{g(x)}$\n",
    "and $ \\frac{1}{c} = \\frac{πR^3}{4}$\n",
    "and ${c} = \\frac{4}{πR^3}$"
   ]
  },
  {
   "cell_type": "code",
   "execution_count": 76,
   "metadata": {
    "collapsed": false
   },
   "outputs": [
    {
     "data": {
      "text/plain": [
       "1.784799312022753"
      ]
     },
     "execution_count": 76,
     "metadata": {},
     "output_type": "execute_result"
    }
   ],
   "source": [
    "import math\n",
    "import random\n",
    "def g(r,x):\n",
    "    return math.sqrt(r*r-x*x)\n",
    "def circle_func(r,x):\n",
    "    return 4/(math.pi *r *r) * math.sqrt(r*r-x*x)\n",
    "def circle_rv(r):\n",
    "    y = math.sqrt(r*r-random.random())\n",
    "    u = random.random()\n",
    "    c = 4/(math.pi *r *r*r)\n",
    "    ratio = circle_func(r,y)/ g(r,y) /c\n",
    "    while u < ratio *c:\n",
    "        u = random.random()\n",
    "        y = math.sqrt(r*r-random.random())\n",
    "        ratio = circle_func(r,y)/ g(r,y) /c\n",
    "    return y\n",
    "circle_rv(2)"
   ]
  },
  {
   "cell_type": "markdown",
   "metadata": {},
   "source": [
    "<B>2.</B> Consider the following density function:\n",
    "$$ f(x) = 12(1 + x)e^{−x}\n",
    ", x ≥ 0. $$\n",
    "Give an acceptance -rejection algorithm for generating samples X distributed as f that\n",
    "uses $g(x)$ of the exponential form $g(x) = λe^{−λx}, x ≥ 0$ what values of λ > 0 will work?\n"
   ]
  },
  {
   "cell_type": "markdown",
   "metadata": {},
   "source": [
    "#### response:\n",
    "\n",
    "$\\frac{f(x)}{g(x)} = \\frac{12(1+x)e^{-x}}{ λe^{-x(1- λ)}}$\n",
    "\n",
    "$\\frac{1}{c} = \\frac{f(a)}{g(a)}  $ given $a =-\\frac{λ}{λ-1} $ and λ is not 1. λ as 1 leads to an unbounded max ratio. "
   ]
  },
  {
   "cell_type": "code",
   "execution_count": 68,
   "metadata": {
    "collapsed": false
   },
   "outputs": [
    {
     "name": "stdout",
     "output_type": "stream",
     "text": [
      "0.385638315427\n"
     ]
    }
   ],
   "source": [
    "def f(x):\n",
    "    return .5*(1+x)*math.exp(-1*x)\n",
    "def exp_rej(lamb):\n",
    "    y = lamb* exp(lamb)\n",
    "    u = random.random()\n",
    "    c = lamb/(lamb -1)\n",
    "    c = f(c) / (lamb*math.exp(-1*lamb*c))\n",
    "    ratio = f(y) / (lamb*math.exp(-1*lamb*y))\n",
    "    while u < ratio *(1/c):\n",
    "        y = lamb* exp(lamb)\n",
    "        u = random.random()\n",
    "        ratio = f(y) / (lamb*math.exp(-1*lamb*y))     \n",
    "    return y\n",
    "print exp_rej(2)"
   ]
  },
  {
   "cell_type": "markdown",
   "metadata": {},
   "source": [
    "<b>3.</b> Continuation: Note that we can re-write\n",
    "$$ f(x) = (1/2)e^{−x} + (1/2)xe^{−x}, x ≥ 0 $$\n",
    "which seems to indicate an alternative method for generating from X: the composition\n",
    "(mixture) method. Argue that in fact $h(x) = xe^{−x}$\n",
    "is the density of Y1 + Y2, where the\n",
    "Yi are iid exponentials at rate 1, and thus (using this fact) give a composition algorithm\n",
    "for generating from f.\n",
    "\n",
    "\n",
    "\n",
    "\n",
    "\n",
    "<br>\n",
    "\n",
    "<br>\n",
    "\n",
    "<br>\n",
    "\n",
    "<br>\n",
    "\n",
    "<br>\n",
    "\n",
    "<br>\n",
    "\n",
    "<br>\n",
    "\n",
    "<br>\n",
    "\n",
    "<br>\n",
    "\n",
    "<br>\n",
    "\n",
    "<br>\n",
    "\n",
    "\n",
    "\n",
    "\n",
    "\n",
    "\n",
    "\n",
    "<br>"
   ]
  },
  {
   "cell_type": "markdown",
   "metadata": {},
   "source": [
    "<b>4.</b> Consider the geometric distribution with success probability $0 < p < 1$:\n",
    "$$ P(k) = P(X = k) = (1 − p)^{k−1}p, k ≥ 1$$\n",
    "Consider the following algorithm for generating such an X:\n",
    "1. Set k = 1.\n",
    "2. Generate U.\n",
    "3. If U ≤ p, then set X = k and stop. Otherwise Re-set k = k + 1 and go back to (2).\n",
    "\n",
    "\n",
    "Show that this algorithm works. On average, how many U are required to obtain a copy\n",
    "of X?\n"
   ]
  },
  {
   "cell_type": "markdown",
   "metadata": {},
   "source": [
    "#### Response:\n",
    "In the geometric distribution, each instnace thee is a probability p of returning k since there is a probability p that U<=p. The probability this occurs in n number of trials is the probability that x in a row return false. Or multiplying the probability of x being false n times. Which if n=k, is (1-p)^(k-1). K-1 because we start the count at 1. This is exactly the algorithm provided written out and the definition of the geometric. On average U trials are required to obtain a copy of x, or in this case 1/p. As 1/p is the expected number of trials to get a true value and that is also the average number of trails required. \n"
   ]
  }
 ],
 "metadata": {
  "kernelspec": {
   "display_name": "Python 2",
   "language": "python",
   "name": "python2"
  },
  "language_info": {
   "codemirror_mode": {
    "name": "ipython",
    "version": 2
   },
   "file_extension": ".py",
   "mimetype": "text/x-python",
   "name": "python",
   "nbconvert_exporter": "python",
   "pygments_lexer": "ipython2",
   "version": "2.7.6"
  }
 },
 "nbformat": 4,
 "nbformat_minor": 0
}
