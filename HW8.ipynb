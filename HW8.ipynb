{
 "cells": [
  {
   "cell_type": "markdown",
   "metadata": {},
   "source": [
    "## HW2\n",
    "### Niger Little-Poole (nl2418)"
   ]
  },
  {
   "cell_type": "code",
   "execution_count": 1,
   "metadata": {
    "collapsed": true
   },
   "outputs": [],
   "source": [
    "import math\n",
    "import random"
   ]
  },
  {
   "cell_type": "markdown",
   "metadata": {},
   "source": [
    "<B>1.</B> Estimating π using Antithetic-Variates Recall that one can estimate π by observing that π = the area of a disk of radius 1 $ ({(x, y) : x^2 + y^2 ≤ 1}); π/4 = \\int^1_0 {\\sqrt{1 − x^2}} dx = E(\\sqrt{1 − U^2}) $ So Monte Carlo can be used to estimate π by generating copies of $X = \\sqrt{1 − U^} $ and averaging (then multiplying times 4). Since $ h(x) = \\sqrt{1 − x^2} $ is monotone decreasing in x, we can use antithetic variates. Thus we would use $X_1 =\\sqrt{1 − U^2_1 }$, $X_2 =\\sqrt{1 −(1 - U^2_1) } $ for our first pair, \n",
    "$X_3 =\\sqrt{1 − U^2_2 }$,  $X_4 =\\sqrt{1 −(1 - U^2_2) } $ and so on\n",
    "2 and so on:\n",
    "$$ Y_1 = (X_1 + X_2)/2 $$,\n",
    "$$ Y_2 = (X_3 + X_4)/2 $$\n",
    "\n",
    "<B> The exact value of π/4 to 6 decimal places is 0.785398.</B>\n",
    "For n = 5000, generate the 5000 values $X_i$ as iid $X_i = \\sqrt{1 − U^2_i} $\n",
    ", and construct a 95% confidence interval for $π/4: X(n) ± (1.96)\\frac{s(n)}{\\sqrt n}$\n",
    ".\n",
    "\n",
    "At the same time, use these same n = 5000 uniforms with antithetic variates, to generate\n",
    "5000 copies of Yi and obtain its 95% confidence interval for π/4:\n",
    "Y (n) ± (1.96)s(n)\n",
    "√\n",
    "n\n",
    "."
   ]
  },
  {
   "cell_type": "code",
   "execution_count": 14,
   "metadata": {
    "collapsed": false
   },
   "outputs": [
    {
     "name": "stdout",
     "output_type": "stream",
     "text": [
      "Regular:  0.787686029145 ,  0.0218335428001\n",
      "Antithetic Variates:  0.784085643359 ,  0.0217337451976\n"
     ]
    }
   ],
   "source": [
    "def pi_estimate(n):\n",
    "    total = 0.0\n",
    "    for i in range(n):\n",
    "        x = math.sqrt(1- math.pow(random.random(),2))\n",
    "        total += x\n",
    "    return total/n\n",
    "\n",
    "def pi_estimate_antithetic(n):\n",
    "    total = 0.0\n",
    "    for i in range(n):\n",
    "        u =random.random()\n",
    "        x1 = math.sqrt(1- math.pow(u,2))\n",
    "        x2 = math.sqrt(1- math.pow(1-u,2))\n",
    "        total += (x1+x2)/2\n",
    "    return total/n\n",
    "\n",
    "n =5000\n",
    "normal = pi_estimate(n)\n",
    "anti =  pi_estimate_antithetic(n)\n",
    "print \"Regular: \", normal, \", \", 1.96*normal/math.sqrt(n)\n",
    "print \"Antithetic Variates: \", anti, \", \", 1.96*anti/math.sqrt(n)"
   ]
  },
  {
   "cell_type": "markdown",
   "metadata": {},
   "source": [
    "<B>2.</B> Consider the delay recursion for a FIFO GI/GI/1 queue:\n",
    "$ D_n+1 = (D_n + S_n − T_n)+, n ≥ 0 $, where ${T_n : n ≥ 0}$ are iid customer interarrival times distributed as $A(x) = P(T ≤x), x ≥ 0$ and independently ${Sn : n ≥ 0}$ are iid customer service times distributed as $G(x) = P(S ≤ x), x ≥ 0$.\n",
    "\n",
    "As in Homework 2, assume that the service times Sn are iid distributed as $G(x) = P(S ≤\n",
    "x) = 1 − e^{−2x}, x ≥ 0 $ (exponential at rate 2), and interarrival times are iid distributed as $A(x) = P(T ≤ x) = x/2, x ∈ (0, 2) $ (uniform on (0, 2)). (Assume that D0 = 0.)\n",
    "You will do Monte Carlo simulations so as to estimate E(D5), the expected delay of the\n",
    "5\n",
    "th customer. One using iid copies of D5, and the other using antithetic variates.\n",
    "Recall that each copy of D5 requires 5 iid copies of Si\n",
    ", $S_0, S_1, . . . S_4 $ and 5 iid copies of Ti, $T_0, T_1, . . . T_4 $; and hence 10 uniforms. Obtain 95% confidence intervals using the two\n",
    "methods using n = 1000 copies of D5, and then again using 5000 copies of D5. Across\n",
    "both estimates, use the same uniforms (10n iid ones).\n"
   ]
  },
  {
   "cell_type": "code",
   "execution_count": 30,
   "metadata": {
    "collapsed": false
   },
   "outputs": [
    {
     "name": "stdout",
     "output_type": "stream",
     "text": [
      "Normal n = 1000 : 0.24826837384 ,  0.0153878332335\n",
      "Antithetic Variates n = 1000 : 0.0119755173843 ,  0.00074225025743\n",
      "Normal n = 5000 : 0.254035883428 ,  0.0070415154368\n",
      "Antithetic Variates n = 5000 : 0.0126183170931 ,  0.000349761905282\n"
     ]
    }
   ],
   "source": [
    "def service_time():\n",
    "    u = random.random()\n",
    "    return -0.5*math.log(u)\n",
    "\n",
    "def interarrival_time():\n",
    "    u = random.random()\n",
    "    return 2*u\n",
    "\n",
    "def service_time_antithetic():\n",
    "    u = random.random()\n",
    "    x1 =-0.5*math.log(u)\n",
    "    x2 = -0.5*math.log(1-u)\n",
    "    return (x1+x2)/2\n",
    "\n",
    "def interarrival_time_antithetic():\n",
    "    u = random.random()\n",
    "    x1 = 2*u\n",
    "    x2 = 2*(1-u)\n",
    "    return (x1+x2)/2\n",
    "\n",
    "def delay_time(n):\n",
    "    d_j = 0\n",
    "    for i in range(n):\n",
    "        d_j = d_j + service_time() - interarrival_time()\n",
    "        d_j = d_j if d_j >0 else 0\n",
    "    return d_j\n",
    "\n",
    "def delay_time_antithetic(n):\n",
    "    d_j = 0\n",
    "    for i in range(n):\n",
    "        d_j = d_j + service_time_antithetic() - interarrival_time_antithetic()\n",
    "        d_j = d_j if d_j >0 else 0\n",
    "    return d_j\n",
    "\n",
    "def monte_carlo_delay(n,t):\n",
    "    vals = [ delay_time(t) for x in range(n)]\n",
    "    return sum(vals)/len(vals)\n",
    "\n",
    "def monte_carlo_delay_antithetic(n,t):\n",
    "\n",
    "    vals = [ delay_time_antithetic(t) for x in range(n)]\n",
    "    return sum(vals)/len(vals)\n",
    "\n",
    "for n in [1000,5000]:\n",
    "    normal = monte_carlo_delay(n,5)\n",
    "    anti  = monte_carlo_delay_antithetic(n,5)\n",
    "    print \"Normal n = %d :\" % n, normal, \", \", 1.96*normal/math.sqrt(n)\n",
    "    print \"Antithetic Variates n = %d :\" % n,anti, \", \", 1.96*anti/math.sqrt(n)\n"
   ]
  },
  {
   "cell_type": "markdown",
   "metadata": {},
   "source": [
    "<B>3</B> Continuation: Now, we shall compare two queueing models using common random numbers\n",
    "(but not antithetic variates). For both models we will compare E(D5). The first\n",
    "model (model 1) is the same as in (2) above. The second model (model 2) has different\n",
    "distributions for G and A (but they have the same mean as in (2)): $ A(x) = P(T ≤\n",
    "x) = 1 − e^{−x}, x ≥ 0 $(exponential at rate 1), and $G(x) = P(S ≤ x) = x, x ∈ (0, 1)$\n",
    "(uniform on (0, 1)). In other words we swapped the kind of distributions used for service\n",
    "and interarrival time. Let $X(1) = D5(1)$ denote a copy of D5 for model 1, and Let $X(2) = D5(2)$ denote a copy\n",
    "of D5 for model 2.\n",
    "When constructing a copy of X(1) and X(2) you are to use the same 10 uniforms.\n",
    "That is the essence of common random numbers: It results in the positive correlation\n",
    "of X(1) and X(2) here, thus reducing the variance of$ X(1) − X(2)$ from what it\n",
    "would be if independent copies across the two systems were used instead.\n",
    "Now: to see which model yields the smaller expected delay (we will refer to that as the\n",
    "“better” system), we will consider n = 5000 iid copies of the difference, $X = X(1)− X(2)$\n",
    "and average to obtain an estimate of $E(X) = E(X(1)) − E(X(2))$. If our estimate is\n",
    "negative, we conclude that model 1 is better; if our estimate is positive we conclude that\n",
    "model 2 is better. Generate 5000 copies of X, and average and construct a 95% confidence\n",
    "interval for estimating E(X). Re-do with n = 10, 000 copies. Which system do you think\n",
    "is better?\n"
   ]
  },
  {
   "cell_type": "code",
   "execution_count": 35,
   "metadata": {
    "collapsed": false
   },
   "outputs": [
    {
     "name": "stdout",
     "output_type": "stream",
     "text": [
      "Normal n = 5000 : -0.0296260128176 ,  -0.000821191178864\n",
      "Normal n = 10000 : -0.0311878117379 ,  -0.000611281110063\n"
     ]
    }
   ],
   "source": [
    "def service_time_common():\n",
    "    u = random.random()\n",
    "    return u\n",
    "\n",
    "def interarrival_time_common():\n",
    "    u = random.random()\n",
    "    return -1*math.log(u)\n",
    "def delay_time_common(n):\n",
    "    d_j = 0\n",
    "    for i in range(n):\n",
    "        d_j = d_j + service_time_common() - interarrival_time_common()\n",
    "        d_j = d_j if d_j >0 else 0\n",
    "    return d_j\n",
    "\n",
    "def monte_carlo_delay_compare(n,t):\n",
    "    vals = [ delay_time(t) - delay_time_common(t) for x in range(n)]\n",
    "    return sum(vals)/len(vals)\n",
    "\n",
    "for n in [5000,10000]:\n",
    "    normal = monte_carlo_delay_compare(n,5)\n",
    "    print \"Normal n = %d :\" % n, normal, \", \", 1.96*normal/math.sqrt(n)"
   ]
  },
  {
   "cell_type": "code",
   "execution_count": null,
   "metadata": {
    "collapsed": true
   },
   "outputs": [],
   "source": []
  }
 ],
 "metadata": {
  "kernelspec": {
   "display_name": "Python 2",
   "language": "python",
   "name": "python2"
  },
  "language_info": {
   "codemirror_mode": {
    "name": "ipython",
    "version": 2
   },
   "file_extension": ".py",
   "mimetype": "text/x-python",
   "name": "python",
   "nbconvert_exporter": "python",
   "pygments_lexer": "ipython2",
   "version": "2.7.6"
  }
 },
 "nbformat": 4,
 "nbformat_minor": 0
}
