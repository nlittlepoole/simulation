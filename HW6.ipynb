{
 "cells": [
  {
   "cell_type": "markdown",
   "metadata": {},
   "source": [
    "## Niger Little-Poole\n",
    "## HW6"
   ]
  },
  {
   "cell_type": "code",
   "execution_count": 4,
   "metadata": {
    "collapsed": true
   },
   "outputs": [],
   "source": [
    "import math\n",
    "import random\n"
   ]
  },
  {
   "cell_type": "markdown",
   "metadata": {},
   "source": [
    "<B>1.</B> Here you will simulate the FIFO GI/GI/1 queue up to time T = 40 with the following\n",
    "exponential rate λ = 1/5 distribution A(x) = P(X ≤ x) for interarrival times, and\n",
    "uniform distribution over [2, 4], G(x) = P(S ≤ x), for service times:\n",
    "$$ A(x) = 1 − e^{−\\frac{1}{5}x}, x ≥ 0 $$\n",
    "$$ G(x) = \\frac {x − 2}{2}, x ∈ [2, 4] $$\n",
    "\n",
    "You are to obtain a copy of both L(T) and $\\frac{1}{T} \\int^T_0 L(s) ds$ where ${L(t) : t ≥ 0}$ is thenumber of customers in the system process, and initially L(0) = 0."
   ]
  },
  {
   "cell_type": "code",
   "execution_count": 6,
   "metadata": {
    "collapsed": false
   },
   "outputs": [
    {
     "name": "stdout",
     "output_type": "stream",
     "text": [
      "(2, 0.6870118596838635)\n"
     ]
    }
   ],
   "source": [
    "def arrival(lamb):\n",
    "    return (-1/lamb)*math.log(random.random())\n",
    "def deperature(a):\n",
    "    return a*random.random() + a\n",
    "\n",
    "def fifo(T, lamb, a ):\n",
    "    t =0\n",
    "    t_a = arrival(lamb)\n",
    "    t_d = math.pow(10,6)\n",
    "    n = 0\n",
    "    n_a = 0\n",
    "    n_d = 0\n",
    "    integral = 0\n",
    "    while t_a < T and (t_d < T or t_d == math.pow(10,6)):\n",
    "        if t_a < t_d:\n",
    "            integral += n*(t_a - t)\n",
    "            n_a+=1\n",
    "            n+=1\n",
    "            t = t_a\n",
    "            t_a = arrival(lamb)+ t\n",
    "            if n ==1:\n",
    "                t_d = deperature(a) + t\n",
    "        else:\n",
    "            integral+= n*(t_d -t)\n",
    "            n_d +=1\n",
    "            n -= 1\n",
    "            t = t_d\n",
    "            if n ==0:\n",
    "                t_d = math.pow(10,6)\n",
    "            else:\n",
    "                t_d = deperature(a) + t\n",
    "    integral += n*(T-t)\n",
    "    return n, integral/T\n",
    "print fifo(40, .2,2)"
   ]
  },
  {
   "cell_type": "markdown",
   "metadata": {
    "collapsed": true
   },
   "source": [
    "<B>2.</B> Continuation: Use the above algorithm N = 10, 000 times so as to use Monte Carlo to estimate both $E(L(T))$, and $E[\\frac{1}{T}\\int^T_0L(S)ds]$\n",
    "\n"
   ]
  },
  {
   "cell_type": "code",
   "execution_count": 9,
   "metadata": {
    "collapsed": false
   },
   "outputs": [
    {
     "name": "stdout",
     "output_type": "stream",
     "text": [
      "(1.8464, 1.0010610702153326)\n"
     ]
    }
   ],
   "source": [
    "def monte_carlo_fifo(n, T, lamb, a):\n",
    "    integrals =[]\n",
    "    expected = []\n",
    "    for i in range(n):\n",
    "        ex, inte = fifo(T, lamb, a)\n",
    "        integrals.append(inte)\n",
    "        expected.append(ex)\n",
    "    return 1.0*sum(expected)/n, sum(integrals)/n\n",
    "print monte_carlo_fifo(10000,40, .2,2)"
   ]
  },
  {
   "cell_type": "markdown",
   "metadata": {},
   "source": [
    "<B>3</B> Continuation: Suppose now that the system operates under LIFO (Last-In-First-Out of\n",
    "line): Arriving customers join the front of the queue instead of the end of the queue. We\n",
    "pointed out in lecure that the stochastic process $\\{L(t) : t ≥ 0\\}$ is identical to that forFIFO. But delays (in line) of individual customers Dn do change. You are to estimate\n",
    "E(D2) by using the following algorithm (in words): When customer 2 (C2) arrives at time\n",
    "t2, we then keep simulating under LIFO until C2 enters service, the time is denoted by\n",
    "$t^{(s)}_2 \\dot T = t^{(s)}_2$\n",
    "then the (random) time at which the simulation stops. And then output\n",
    "$D2 = t^{(s)}_2 − t_2$. Repeat 10,000 times so as to use Monte Carlo to estimate E(D2).\n",
    "Note that D2 > 0 if and only if when C2 arrives at time t2, C1 (who arrived at time t1)\n",
    "is still in service: under that case, some of the future customers C3, . . . might also arrive\n",
    "before C2"
   ]
  },
  {
   "cell_type": "code",
   "execution_count": 33,
   "metadata": {
    "collapsed": false
   },
   "outputs": [
    {
     "name": "stdout",
     "output_type": "stream",
     "text": [
      "1.12464619632\n"
     ]
    }
   ],
   "source": [
    "def lifo_2( lamb,a):\n",
    "    # customer 1 enters\n",
    "    entry = arrival(lamb)  \n",
    "    exit = entry + deperature(a) # when customer 1 will exit\n",
    "    \n",
    "    # customer 2 enters\n",
    "    c = arrival(lamb) \n",
    "    entry = entry + arrival(lamb)\n",
    "    t_2 = entry\n",
    "    \n",
    "    # customer 3 enters if before customer 1 leaves\n",
    "    c = arrival(lamb) \n",
    "    entry = entry + c if entry + c < exit else None\n",
    "    while entry is not None:\n",
    "        # subsequent customer entries if non customer 2 being served\n",
    "        exit = entry + deperature(a)\n",
    "        c = arrival(lamb)\n",
    "        entry = entry + c if entry + c < exit else None     \n",
    "    return exit - t_2 if exit > t_2 else 0\n",
    "\n",
    "print sum([lifo_2(.2,2) for x in range(10000)])/10000"
   ]
  },
  {
   "cell_type": "markdown",
   "metadata": {},
   "source": [
    "<B>4.</B> Under the model in (1), suppose we allow customers to become impatient: Upon arrival, ifa customer must wait in the line, then (independent of each other), the customer will leavewithout being served if after an exponential amount of time J that has rate α = 1/4, theyhave not yet entered service. Each arriving customer (who waits in line) gets there own iidsuch exponential. (YOU DO NOT NEED TO DO A SIMULATION/PROGRAMMING\n",
    "HERE; JUST ANSWER SOME QUESTIONS.)\n",
    "\n",
    "(a) What are the events if we wish to simulate (as before) ?\n",
    "\n",
    "* Arrival Time\n",
    "* Deperature Time (if no one is in the system, also set leaving to 0)\n",
    "* Leaving Time\n",
    "\n",
    "(b) Give pseudo-code for the various cases now.\n",
    "While t < T:\n",
    "\n",
    "* if arrivial time is the least:\n",
    "    * add person to system, reset arrival time, generate leave time if n >=1 and add to list\n",
    "* if deperature time is the least:\n",
    "    * subtract persom from system\n",
    "    * reset deperature time(service) if there are people waiting\n",
    "    * if no one is waiting, set deperature to infinity and pop top of leave times\n",
    "* if top leave time is the least\n",
    "    * subtract person from system\n",
    "    * set next soonest leave time to top if exists\n",
    "    * else set top to infinity\n",
    "\n",
    "rest of algo is the same\n",
    "    "
   ]
  }
 ],
 "metadata": {
  "kernelspec": {
   "display_name": "Python 2",
   "language": "python",
   "name": "python2"
  },
  "language_info": {
   "codemirror_mode": {
    "name": "ipython",
    "version": 2
   },
   "file_extension": ".py",
   "mimetype": "text/x-python",
   "name": "python",
   "nbconvert_exporter": "python",
   "pygments_lexer": "ipython2",
   "version": "2.7.6"
  }
 },
 "nbformat": 4,
 "nbformat_minor": 0
}
