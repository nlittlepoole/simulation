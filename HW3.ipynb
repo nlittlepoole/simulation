{
 "cells": [
  {
   "cell_type": "markdown",
   "metadata": {},
   "source": [
    "## Homework 3\n",
    "### Niger Little-Poole (nl2418)"
   ]
  },
  {
   "cell_type": "markdown",
   "metadata": {},
   "source": [
    "1. Binomial Lattice Model (BLM): (Recall the Lecture Notes “Binomial Lattice Model”;\n",
    "Sn+1 = SnYn+1, n ≥ 0. It is explained in there how to simulate this model.) Suppose\n",
    "that S0 = 50 (dollars per share), u = 1.2, d = .90, and p = 0.75. For T = 15, and K = 60,\n",
    "you are to estimate the expected payoff E(CT ) of an Asian call option, with payoff\n",
    "$$ C_T = (\\frac{1}{T}\\sum^T_{n=1}S_n -K)^+$$\n",
    "\n",
    "Use Monte Carlo:\n",
    "Generate n (large) iid copies of CT , denoted by $X_1, . . . , X_n$ and use the estimate\n",
    "$$ E(C_T ) ≈ \\bar{X}(n) = \\frac{1}{n}\\sum^n_{i=1}X_i$$\n",
    "\n",
    "Use n = 100, n = 1000, n = 10, 000.\n"
   ]
  },
  {
   "cell_type": "code",
   "execution_count": 57,
   "metadata": {
    "collapsed": false
   },
   "outputs": [
    {
     "name": "stdout",
     "output_type": "stream",
     "text": [
      "n = 100 86.198525282\n",
      "n = 1000 85.7463525149\n",
      "n = 10000 85.6867115642\n"
     ]
    }
   ],
   "source": [
    "import math\n",
    "import random\n",
    "\n",
    "def s_n(n,s,p,u,d):\n",
    "    for i in range(n):\n",
    "        r = random.random()\n",
    "        y = u if r<=p else d\n",
    "        s = s*y\n",
    "    return s\n",
    "def asian_option(s,k,T,p,u,d):\n",
    "    average = sum([s_n(x+1, s,p,u,d) for x in range(T)]) / T\n",
    "    return average - k if average > k else 0\n",
    "def monte_carlo_asian(n,s,k,T,p,u,d):\n",
    "    estimate = sum([asian_option(s,k,T,p,u,d) for x in range(n)  ])/n\n",
    "    return estimate\n",
    "for n in [100,1000,10000]:\n",
    "    print \"n = %d\" % n, monte_carlo_asian(n,50,60,15,.75,1.2,.9)"
   ]
  },
  {
   "cell_type": "markdown",
   "metadata": {},
   "source": [
    "<B>2a</B>\n",
    "Simulate the first n points for a given desired n, via sequentially adding on the next\n",
    "interarrival time recursively via $t_{n+1} = t_n + [\\frac{−1}{λ} ln(U_n+1)$. The integer n ≥ 1,\n",
    "and the parameter λ > 0, should be variables that can be entered upon calling your\n",
    "program. Here is the psuedo code:\n",
    "\n",
    "Enter n, enter λ.\n",
    "\n",
    "* Set $k = 1; t = 0.$\n",
    "* Generate a U\n",
    "* Set $tk = t + \\frac{−1}{λ} ln(U)$ If k = n, then stop.\n",
    "* Otherwise (k < n) set k = k + 1 and set $t_N = t$, and go back to 2.\n",
    "* Output $t_1, . . . , t_n$\n",
    "Run the above algorithm f"
   ]
  },
  {
   "cell_type": "code",
   "execution_count": 61,
   "metadata": {
    "collapsed": false
   },
   "outputs": [
    {
     "name": "stdout",
     "output_type": "stream",
     "text": [
      "0.103113247349\n",
      "0.362690111939\n",
      "0.37532444636\n",
      "1.14287214382\n",
      "1.14667986585\n",
      "1.67115033334\n",
      "2.94332201939\n",
      "3.49960878727\n",
      "4.08684938916\n",
      "4.1793782145\n"
     ]
    }
   ],
   "source": [
    "def poisson_arrival(n, lamb):\n",
    "    t = 0.0\n",
    "    for i in range(n):\n",
    "        t = t + (-1/ lamb)*math.log(random.random())\n",
    "        print t \n",
    "poisson_arrival(10, 3)"
   ]
  },
  {
   "cell_type": "markdown",
   "metadata": {},
   "source": [
    " Simulating up to any desired time T > 0; again using $t_{n+1} = t_n + \\frac{−1}{λ} ln(U_n+1)$ Have both T and the rate λ be variables for which values can be entered when the\n",
    "code is called. The output should be the point values $t_1, . . . , t_N$ , and the value of\n",
    "N = N(T). Run the algorithm for T = 4, λ = 3. Here is the psuedo code:\n"
   ]
  },
  {
   "cell_type": "code",
   "execution_count": 59,
   "metadata": {
    "collapsed": false
   },
   "outputs": [
    {
     "name": "stdout",
     "output_type": "stream",
     "text": [
      "t_0 0.0\n",
      "t_1 0.866991557413\n",
      "t_2 1.2071930653\n",
      "t_3 1.25951135076\n",
      "t_4 2.02748497141\n",
      "t_5 2.05220600019\n",
      "t_6 2.72509384083\n",
      "6\n"
     ]
    }
   ],
   "source": [
    "def poisson_counting(T, lamb):\n",
    "    t = 0.0\n",
    "    N = 0\n",
    "    while t < T:\n",
    "        print \"t_%d\" % N ,t\n",
    "        t = t + (-1/ lamb)*math.log(random.random())\n",
    "        N = N +1\n",
    "        \n",
    "    print N -1\n",
    "poisson_counting(4, 3)"
   ]
  }
 ],
 "metadata": {
  "kernelspec": {
   "display_name": "Python 2",
   "language": "python",
   "name": "python2"
  },
  "language_info": {
   "codemirror_mode": {
    "name": "ipython",
    "version": 2
   },
   "file_extension": ".py",
   "mimetype": "text/x-python",
   "name": "python",
   "nbconvert_exporter": "python",
   "pygments_lexer": "ipython2",
   "version": "2.7.6"
  }
 },
 "nbformat": 4,
 "nbformat_minor": 0
}
