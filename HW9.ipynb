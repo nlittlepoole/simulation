{
 "cells": [
  {
   "cell_type": "markdown",
   "metadata": {},
   "source": [
    "## Niger Little-Poole\n",
    "### nl2418"
   ]
  },
  {
   "cell_type": "code",
   "execution_count": 40,
   "metadata": {
    "collapsed": false
   },
   "outputs": [],
   "source": [
    "import math\n",
    "import random\n"
   ]
  },
  {
   "cell_type": "markdown",
   "metadata": {},
   "source": [
    "<B>1.</B> Write up the two programs (I, II) for simulating the following non-stationary Poisson\n",
    "processes by using the thinning method with a bound $λ^∗ = max_t{λ(t)} $. Program I is for\n",
    "simulating the first n points (you enter the value n). Program II is for simulating up to\n",
    "a specified time T (you enter the value of T). For each, give the value of λ\n",
    "∗ and give a\n",
    "print out for n = 12, n = 20 for I, and T = 7, T = 30 for II.\n",
    "\n",
    "\n",
    "<B>(a)</B> λ(t) alternates between the values 1 and 2 as follows: $λ(t) = 1, t ∈ [0, 1)$ then\n",
    "$λ(t) = 2, t ∈ [1, 2)$, and so on for each length 1 time interval interval [n, n + 1).\n"
   ]
  },
  {
   "cell_type": "code",
   "execution_count": 30,
   "metadata": {
    "collapsed": false
   },
   "outputs": [
    {
     "name": "stdout",
     "output_type": "stream",
     "text": [
      "[0.12776658708158883, 0.3404215450671505, 0.5833149467867287, 0.7821251255014239, 0.9097786094435514, 1.0355483654606878, 1.41308575290205, 1.5918041795797595, 1.593825637222371, 1.696078755068538, 1.9272578141119803, 2.2368358953511684] \n",
      "\n",
      "[0.11423860608681481, 1.0950676445018726, 2.1568307453312725, 2.6671737108088402, 2.7293241913335495, 3.0026927005774557, 3.277362539007803, 4.043206557035047, 4.176718936928327, 4.324235385071762, 4.359066016718032, 4.869225538024226, 5.467642784282197, 5.62903611590354, 7.234469525566344, 7.32422421857978, 8.233823500100398, 11.256557907235957, 11.817165198047428, 12.115991086141111]\n"
     ]
    }
   ],
   "source": [
    "def non_stationairy_poisson(n):\n",
    "    t = 0\n",
    "    tN = []\n",
    "    N = 0\n",
    "    step = True\n",
    "    while N < n:\n",
    "        u = random.random()\n",
    "        t = t - .5*math.log(u)\n",
    "        ratio = .5 if step else 1\n",
    "        step = False if step else True\n",
    "        u = random.random()\n",
    "        if u < ratio:\n",
    "            N+=1\n",
    "            tN.append(t)\n",
    "    return tN\n",
    "\n",
    "print non_stationairy_poisson(12), '\\n'\n",
    "print non_stationairy_poisson(20)"
   ]
  },
  {
   "cell_type": "code",
   "execution_count": 31,
   "metadata": {
    "collapsed": false
   },
   "outputs": [
    {
     "name": "stdout",
     "output_type": "stream",
     "text": [
      "[0.16350905911704014, 1.6959327154526362, 3.141991520280002, 3.990644695531115, 4.858901286870025, 5.099796540624572, 5.368742823434575, 5.953422690921703, 6.820666201914026] \n",
      "\n",
      "[0.820218841786666, 1.7319096044165438, 2.4207997105244834, 2.9645499137394613, 2.974860575597291, 2.9893898277296924, 3.216727098179491, 4.360275400591582, 4.565149141401325, 5.643884409804456, 5.742507929350005, 6.9977184114816735, 8.113634019883985, 8.32140622022483, 9.287944770982381, 9.723302707520027, 10.056985761570052, 10.874597707489633, 11.254656511690222, 11.900378282447075, 12.022374267326008, 12.586315613397307, 12.862325605926197, 12.868481236837434, 13.293750319896438, 14.279184213469083, 14.559244006718401, 15.045247867634256, 15.559386377389366, 16.848848851834664, 18.1876552298678, 19.883791558967957, 19.991881310575913, 20.20009614796106, 20.231688582012517, 20.447457904527703, 21.409539039407708, 21.79601131789154, 21.919365875645596, 22.298553104554006, 22.318909272727232, 22.975852425729514, 23.340864473865018, 24.203168206494468, 24.637453330048665, 25.02427124700933, 25.172918198649498, 25.735756493346347, 25.797477829600297, 25.845575152272442, 26.178840747784374, 26.446441715485335, 27.060630977680084, 27.117691747944384, 27.98232359397716, 27.99291195785576, 28.15427720225583, 28.585049264056334, 28.60346162128885, 29.436294428709495, 29.697874533195975]\n"
     ]
    }
   ],
   "source": [
    "def non_stationairy_poisson_two(T):\n",
    "    t = 0\n",
    "    tN = []\n",
    "    N = 0\n",
    "    while t < T:\n",
    "        u = random.random()\n",
    "        t = t - .5*math.log(u)\n",
    "        ratio = (2+ 1.0/(1+t))/2.0\n",
    "        u = random.random()\n",
    "        if u < ratio:\n",
    "            N+=1\n",
    "            tN.append(t)\n",
    "    return tN[:-1]\n",
    "print non_stationairy_poisson_two(7),'\\n'\n",
    "print non_stationairy_poisson_two(30)"
   ]
  },
  {
   "cell_type": "markdown",
   "metadata": {
    "collapsed": true
   },
   "source": [
    "<B>2.</b> Consider the FIFO single-server queue. Assume that the service times Sn are iid distributed\n",
    "as uniform over (2, 4) but the arrival process is a non-stationary Poisson process\n",
    "as (a) above.\n",
    "\n",
    "(a) E(D6): Monte Carlo simulation so as to estimate E(D6), the expected delay of the\n",
    "6\n",
    "th customer. First you will simulate n independent copies of D6; X1, . . . , Xn and\n",
    "use as the estimate\n",
    "$$ \\frac{1}{n}\\sum^n_{j=1}X_j $$\n",
    "(D0 = 0.) You should use n = 10, 000, and give a 95% confidence interval.\n",
    "As a second attempt, so as to reduce variance: Independently only simulate the arrival\n",
    "process for each copy of D6, but for the 6 service times, use antithetic variates.\n",
    "(Partial use of antithetic.) Again, you should use n = 10, 000, and give a 95%\n",
    "confidence interval.\n"
   ]
  },
  {
   "cell_type": "code",
   "execution_count": 32,
   "metadata": {
    "collapsed": false
   },
   "outputs": [
    {
     "name": "stdout",
     "output_type": "stream",
     "text": [
      "4.84148443855 4.29217710414 0.0841266712412\n"
     ]
    }
   ],
   "source": [
    "def service_time():\n",
    "    return random.random()*2 +2\n",
    "\n",
    "def delay_time(n):\n",
    "    d_j = 0\n",
    "    arrivals = non_stationairy_poisson(n)\n",
    "    for i in range(n):\n",
    "        d_j = d_j + service_time() - arrivals[i]\n",
    "        d_j = d_j if d_j >0 else 0\n",
    "    return d_j\n",
    "\n",
    "def monte_carlo_delay(n,t):\n",
    "    vals = [ delay_time(t) for x in range(n)]\n",
    "    mean = sum(vals)/len(vals)\n",
    "    variance = sum([math.pow( mean - x,2 )for x in vals ])/n\n",
    "    return mean, math.sqrt(variance)\n",
    "mean, std= monte_carlo_delay(10000,6)\n",
    "print mean, std, 1.96*std/math.sqrt(10000)"
   ]
  },
  {
   "cell_type": "code",
   "execution_count": 33,
   "metadata": {
    "collapsed": false
   },
   "outputs": [
    {
     "name": "stdout",
     "output_type": "stream",
     "text": [
      "4.10603802696 3.05974903392 0.0599710810648\n"
     ]
    }
   ],
   "source": [
    "def non_stationairy_poisson_antithetic(n):\n",
    "    t = 0\n",
    "    tN = []\n",
    "    N = 0\n",
    "    step = True\n",
    "    while N < n:\n",
    "        u = random.random()\n",
    "        t = t - (.5*math.log(u) + .5*math.log(1-u))/2\n",
    "        ratio = .5 if step else 1\n",
    "        step = False if step else True\n",
    "        u = random.random()\n",
    "        if u < ratio:\n",
    "            N+=1\n",
    "            tN.append(t)\n",
    "    return tN\n",
    "\n",
    "def delay_time_antithetic(n):\n",
    "    d_j = 0\n",
    "    arrivals = non_stationairy_poisson_antithetic(n)\n",
    "    for i in range(n):\n",
    "        d_j = d_j + service_time() - arrivals[i]\n",
    "        d_j = d_j if d_j >0 else 0\n",
    "    return d_j\n",
    "\n",
    "def monte_carlo_delay_antithetic(n,t):\n",
    "    vals = [ delay_time_antithetic(t) for x in range(n)]\n",
    "    mean = sum(vals)/len(vals)\n",
    "    variance = sum([math.pow( mean - x,2 )for x in vals ])/n\n",
    "    return mean, math.sqrt(variance)\n",
    "\n",
    "mean, std= monte_carlo_delay_antithetic(10000,6)\n",
    "print mean, std, 1.96*std/math.sqrt(10000)"
   ]
  },
  {
   "cell_type": "markdown",
   "metadata": {},
   "source": [
    "<B> (b)</B> Estimate\n",
    "$$ E[\\frac{1}{T}\\int{L(s) ds}]$$\n",
    "Use T = 30, n = 10, 000, and give a 95% confidence interval. Do not use antithetic\n",
    "variates, make the copies independent.\n"
   ]
  },
  {
   "cell_type": "code",
   "execution_count": 39,
   "metadata": {
    "collapsed": false
   },
   "outputs": [
    {
     "name": "stdout",
     "output_type": "stream",
     "text": [
      "(1.4021, 1.6524793146566772)\n"
     ]
    }
   ],
   "source": [
    "def arrival_time(T):\n",
    "    t = 0\n",
    "    tN = []\n",
    "    N = 0\n",
    "    step = True\n",
    "    while t < T:\n",
    "        u = random.random()\n",
    "        t = t - .5*math.log(u)\n",
    "        ratio = .5 if step else 1\n",
    "        step = False if step else True\n",
    "        u = random.random()\n",
    "        if u < ratio:\n",
    "            N+=1\n",
    "            tN.append(t)\n",
    "    return tN[:-1]\n",
    "\n",
    "def fifo(T):\n",
    "    t =0\n",
    "    arrivals = arrival_time(T)\n",
    "    t_a = arrivals[0]\n",
    "    i = 1\n",
    "    t_d = math.pow(10,6)\n",
    "    n = 0\n",
    "    n_a = 0\n",
    "    n_d = 0\n",
    "    integral = 0\n",
    "    \n",
    "    while t_a < T and (t_d < T or t_d == math.pow(10,6)):\n",
    "        if t_a < t_d:\n",
    "            integral += n*(t_a - t)\n",
    "            n_a+=1\n",
    "            n+=1\n",
    "            t = t_a\n",
    "            t_a = arrivals[i]+ t\n",
    "            i+=1\n",
    "            if n ==1:\n",
    "                t_d = service_time() + t\n",
    "        else:\n",
    "            integral+= n*(t_d -t)\n",
    "            n_d +=1\n",
    "            n -= 1\n",
    "            t = t_d\n",
    "            if n ==0:\n",
    "                t_d = math.pow(10,6)\n",
    "            else:\n",
    "                t_d = service_time() + t\n",
    "    integral += n*(T-t)\n",
    "    return n, integral/T\n",
    "def monte_carlo_fifo(n, T):\n",
    "    integrals =[]\n",
    "    expected = []\n",
    "    for i in range(n):\n",
    "        ex, inte = fifo(T)\n",
    "        integrals.append(inte)\n",
    "        expected.append(ex)\n",
    "    return 1.0*sum(expected)/n, sum(integrals)/n\n",
    "print monte_carlo_fifo(10000,30)"
   ]
  }
 ],
 "metadata": {
  "kernelspec": {
   "display_name": "Python 2",
   "language": "python",
   "name": "python2"
  },
  "language_info": {
   "codemirror_mode": {
    "name": "ipython",
    "version": 2
   },
   "file_extension": ".py",
   "mimetype": "text/x-python",
   "name": "python",
   "nbconvert_exporter": "python",
   "pygments_lexer": "ipython2",
   "version": "2.7.6"
  }
 },
 "nbformat": 4,
 "nbformat_minor": 0
}
