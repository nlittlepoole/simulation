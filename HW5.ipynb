{
 "cells": [
  {
   "cell_type": "markdown",
   "metadata": {},
   "source": [
    "## Homework 5\n",
    "### Niger Little-Poole (nl2418)"
   ]
  },
  {
   "cell_type": "markdown",
   "metadata": {
    "collapsed": false
   },
   "source": [
    "### Poisson Random Variable (alternative algorithm):###"
   ]
  },
  {
   "cell_type": "code",
   "execution_count": 3,
   "metadata": {
    "collapsed": false
   },
   "outputs": [
    {
     "name": "stdout",
     "output_type": "stream",
     "text": [
      "2\n"
     ]
    }
   ],
   "source": [
    "import random\n",
    "import math\n",
    "def poisson(alpha):\n",
    "    x = 0\n",
    "    p = random.random()\n",
    "    while p >= math.exp(-1*alpha):\n",
    "        p = random.random() *p\n",
    "        x+=1\n",
    "    return x\n",
    "print poisson(4)"
   ]
  },
  {
   "cell_type": "markdown",
   "metadata": {},
   "source": [
    "<B>a. </B>For α = 1, 6, 100, use Monte-Carlo simulation to estimate the E(X) = α. (The point\n",
    "is to see how close the estimate is to the true answer α.) Generate n = 1, 000 copies\n",
    "of X and average."
   ]
  },
  {
   "cell_type": "code",
   "execution_count": 4,
   "metadata": {
    "collapsed": false
   },
   "outputs": [
    {
     "name": "stdout",
     "output_type": "stream",
     "text": [
      "α = 1, monte carlo est = 0.920000\n",
      "α = 6, monte carlo est = 6.011000\n",
      "α = 100, monte carlo est = 100.090000\n"
     ]
    }
   ],
   "source": [
    "for a in [1,6,100]:\n",
    "    total = 0.0\n",
    "    for i in range(1000):\n",
    "        total+= poisson(a)\n",
    "    print \"α = %d, monte carlo est = %f\" % (a, total/1000)"
   ]
  },
  {
   "cell_type": "markdown",
   "metadata": {},
   "source": [
    "### Counting Process ###"
   ]
  },
  {
   "cell_type": "code",
   "execution_count": 5,
   "metadata": {
    "collapsed": false
   },
   "outputs": [
    {
     "name": "stdout",
     "output_type": "stream",
     "text": [
      "[0.892176846770627, 4.140391946837196, 9.009321705526135]\n"
     ]
    }
   ],
   "source": [
    "def poisson_process(T, lamb):\n",
    "    alpha = lamb * T\n",
    "    N = poisson(alpha)\n",
    "    return sorted([random.random()*T for i in range(N)])\n",
    "print poisson_process(10,1) "
   ]
  },
  {
   "cell_type": "markdown",
   "metadata": {},
   "source": [
    "### US Election Ties###"
   ]
  },
  {
   "cell_type": "code",
   "execution_count": 14,
   "metadata": {
    "collapsed": false
   },
   "outputs": [
    {
     "name": "stdout",
     "output_type": "stream",
     "text": [
      "17338858565376.410156 ties with probability 0.007700\n"
     ]
    }
   ],
   "source": [
    "EC = [ 9,  3,  8,  6, 54,  8,  8,  3,  3, 25,\n",
    "     13,  4,  4, 22, 12,  7,  6,  8,  9,  4,\n",
    "     10, 12, 18, 10,  7, 11,  3,  5,  4,  4,\n",
    "     15,  5, 33, 14,  3, 21,  8,  7, 23,  4,\n",
    "      8,  3, 11, 32,  5,  3, 13, 11,  5, 11,\n",
    "      3 ]\n",
    "def monte_carlo_tie(n):\n",
    "    total = 0.0\n",
    "    for i in range (n):\n",
    "        votes = 0\n",
    "        for v in EC:\n",
    "            votes = votes + v if random.random() > .5 else 0 + votes\n",
    "        total = total+ 1 if votes == 269 else total + 0\n",
    "    return total/n  \n",
    "prob = monte_carlo_tie(10000) \n",
    "print \"%f ties with probability %f\" % (prob* math.pow(2,51), prob)"
   ]
  },
  {
   "cell_type": "markdown",
   "metadata": {},
   "source": [
    "### Probability Al Gore Wins the Election (even battleground) ###"
   ]
  },
  {
   "cell_type": "code",
   "execution_count": 11,
   "metadata": {
    "collapsed": false
   },
   "outputs": [
    {
     "name": "stdout",
     "output_type": "stream",
     "text": [
      "Gore wins with probability 0.506000\n"
     ]
    }
   ],
   "source": [
    "def monte_carlo_gore(n):\n",
    "    total = 0.0\n",
    "    for i in range (n):\n",
    "        votes = 0\n",
    "        for v in EC:\n",
    "            votes = votes + v if random.random() < .5 else 0 + votes\n",
    "        total = total+ 1 if votes > 269 else total + 0\n",
    "    return total/n \n",
    "prob = monte_carlo_gore(1000) \n",
    "print \"Gore wins with probability %f\" % prob"
   ]
  },
  {
   "cell_type": "markdown",
   "metadata": {},
   "source": [
    "### Probability Al Gore Wins the Election (actual battleground) ###"
   ]
  },
  {
   "cell_type": "code",
   "execution_count": 12,
   "metadata": {
    "collapsed": false
   },
   "outputs": [
    {
     "name": "stdout",
     "output_type": "stream",
     "text": [
      "Gore wins with probability 0.805000\n"
     ]
    }
   ],
   "source": [
    "battleground = {3:.395, 7:.143 ,9:.893, 13:.999, 15:.42, 19:.5, 22:.997, 23:.999 ,25:.236,28:.146,29:.731, 37:.602,38:.989,42:.289,47:.753,49:.302, 50:.946 }\n",
    "def monte_carlo_gore_actual(n):\n",
    "    total = 0.0\n",
    "    for i in range (n):\n",
    "        votes = 0\n",
    "        j = 0\n",
    "        for v in EC:\n",
    "            p = battleground.get(j,.5)\n",
    "            votes = votes + v if random.random() < p else 0 + votes\n",
    "            j+=1\n",
    "        total = total+ 1 if votes > 269 else total + 0\n",
    "    return total/n \n",
    "prob = monte_carlo_gore_actual(1000) \n",
    "print \"Gore wins with probability %f\" % prob"
   ]
  }
 ],
 "metadata": {
  "kernelspec": {
   "display_name": "Python 2",
   "language": "python",
   "name": "python2"
  },
  "language_info": {
   "codemirror_mode": {
    "name": "ipython",
    "version": 2
   },
   "file_extension": ".py",
   "mimetype": "text/x-python",
   "name": "python",
   "nbconvert_exporter": "python",
   "pygments_lexer": "ipython2",
   "version": "2.7.6"
  }
 },
 "nbformat": 4,
 "nbformat_minor": 0
}
