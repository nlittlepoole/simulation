{
 "cells": [
  {
   "cell_type": "markdown",
   "metadata": {},
   "source": [
    "## Homework 2\n",
    "### Niger Little-Poole (nl2418)"
   ]
  },
  {
   "cell_type": "markdown",
   "metadata": {},
   "source": [
    "<B> 1.</B> For λ > 0 fixed, suppose P(X ≤ x) = F(x) = 1 − e\n",
    "<sup>−λ√x</sup> , x ≥ 0, an example of a Weibull distribution. A friend of yours says that in fact, you can generate the Weibull X above by first generating a rv Y that is exponential at rate λ, (P(Y ≤ x) = 1 − e <sup>>λx </sup>), and settingX = Y<sup>2</sup>. Show that this is correct.\n",
    "\n",
    "Response:\n",
    "\n",
    "$Y = \\frac{-1}{λ}ln(U)$\n",
    "\n",
    "$Y^2 = \\frac{1}{λ^2}ln(U)^2$\n",
    "\n",
    "$prob ( \\frac{1}{λ^2}ln(U)^2 < x )$\n",
    "\n",
    "$prob ( \\frac{-1}{λ}ln(U) < \\sqrt x )$\n",
    "\n",
    "$prob (ln(U) > -λ\\sqrt x )$\n",
    "\n",
    "$prob( U > e^{-λ\\sqrt x})$\n",
    "\n",
    "$prob( U < 1 - e^{-λ\\sqrt x})$"
   ]
  },
  {
   "cell_type": "markdown",
   "metadata": {},
   "source": [
    "<B>2.</B> Give an algorithm for generating an X with the following distribution, that uses two iid uniforms, U<sub>1</sub>, U<sub>2</sub>: \n",
    "\n",
    "$$ P(X ≤ x) = F(x) = 0.40(1 − e^{−2x}) + 0.60(1 − e^{−2√x}), x ≥ 0 $$\n",
    "\n",
    "\n",
    "Algorithm:\n",
    "\n",
    "* Generate U<sub>1</sub>, U<sub>2</sub>\n",
    "* if U<sub>1</sub> ≤ 0.4 return $\\frac{-1}{2}ln(U_2)$\n",
    "* else return $\\frac{1}{4}ln(U_2)^2$"
   ]
  },
  {
   "cell_type": "code",
   "execution_count": 3,
   "metadata": {
    "collapsed": false
   },
   "outputs": [
    {
     "name": "stdout",
     "output_type": "stream",
     "text": [
      "4.42256800237\n"
     ]
    }
   ],
   "source": [
    "import random\n",
    "import math\n",
    "def mixed_exp_weib(p, lambda_exp, lambda_weib):\n",
    "    u = random.random()\n",
    "    if(u <=p):\n",
    "        return (-1/lambda_exp)*math.log(random.random())\n",
    "    else:\n",
    "        uu = random.random()\n",
    "        return (-1/(lambda_weib*lambda_weib))* math.log(uu*uu)\n",
    "print mixed_exp_weib(.4,2,2)"
   ]
  },
  {
   "cell_type": "markdown",
   "metadata": {},
   "source": [
    "<B>3.</B> Consider $P(X ≤ x) = F(x) = 1 − (1 + x)^{−3}, x > 0.$ This is an example of a Pareto or power tail distribution. Give the inverse transform algorithm for generating an X from this F\n",
    "\n",
    "$$ F^{-1}(x) = (1-y)^{\\frac{-1}{3}}) - 1 $$\n",
    "\n",
    "Algorithm:\n",
    "\n",
    "* Generate $U_1$\n",
    "* return $ F^{-1}(x) = (1-U_1)^{\\frac{-1}{3}}) - 1 $"
   ]
  },
  {
   "cell_type": "code",
   "execution_count": 6,
   "metadata": {
    "collapsed": false
   },
   "outputs": [
    {
     "name": "stdout",
     "output_type": "stream",
     "text": [
      "2.49349645367\n"
     ]
    }
   ],
   "source": [
    "def pareto_random():\n",
    "    u = random.random()\n",
    "    return math.pow(1 - u, (-1/3)) -1\n",
    "print pareto_random()"
   ]
  },
  {
   "cell_type": "markdown",
   "metadata": {},
   "source": [
    "<B>4.</B> Consider the single-server queue recursion $Dn+1 = (D_n + S_n − T_n)\n",
    "^+, n ≥ 0.$ Assume that the service times S_n are iid distributed as $P(S ≤ x) = 1 − e\n",
    "^{−2x}, x ≥ 0 $ (exponential at rate 2), and interarrival times are iid distributed as $ P(T ≤ x) = x/2, x ∈ (0, 2) $  (uniform on (0, 2)). (Assume that $D_0 = 0$) You are to simulate (using MATLAB, etc., and run it and hand in both the code and some output) the following:\n",
    "\n",
    "<B>(a)</B> Long-run simulation estimate: To estimate long-run average delay: \n",
    "$$d = \\lim\\limits_{n \\to ∞}\\frac{1}{n} \\sum_{j=1}^n D_j$$\n",
    "Your estimate will be\n",
    "$$\\frac{1}{n} \\sum_{j=1}^n D_j$$\n",
    "and you should use n = 100, then n = 1000, then n = 10, 000, then n = 50, 000, to\n",
    "see how it changes as n gets larger"
   ]
  },
  {
   "cell_type": "code",
   "execution_count": 44,
   "metadata": {
    "collapsed": false
   },
   "outputs": [
    {
     "name": "stdout",
     "output_type": "stream",
     "text": [
      "n = 100 : 0.171869846561\n",
      "n = 1000 : 0.301237285668\n",
      "n = 10000 : 0.282743608219\n",
      "n = 50000 : 0.283211886115\n"
     ]
    }
   ],
   "source": [
    "def service_time():\n",
    "    u = random.random()\n",
    "    return -0.5*math.log(u)\n",
    "def interarrival_time():\n",
    "    u = random.random()\n",
    "    return 2*u\n",
    "\n",
    "# python limits recursion to 999 calls, following won't work\n",
    "#def delay_time(n):\n",
    "#    if n == 0:\n",
    "#        return 0\n",
    "#    else:\n",
    "#        delay = delay_time(n-1) + service_time() - interarrival_time()\n",
    "#        delay = delay if delay > 0 else 0\n",
    "#        return delay\n",
    "def delay_time(n):\n",
    "    d_j = 0\n",
    "    for i in range(n):\n",
    "        d_j = d_j + service_time() - interarrival_time()\n",
    "        d_j = d_j if d_j >0 else 0\n",
    "    return d_j\n",
    "def long_run_avg(n):\n",
    "    vals = [ delay_time(x) for x in range(n)]\n",
    "    return sum(vals)/len(vals)\n",
    "for n in [100,1000,10000,50000]:\n",
    "    print \"n = %d :\" % n,long_run_avg(n)\n"
   ]
  },
  {
   "cell_type": "markdown",
   "metadata": {},
   "source": [
    "<B>(b)</B> Monte Carlo estimate: Now you are to do a Monte Carlo simulation so as to estimate $E(D_5)$, the expected delay of the 5th customer. Here you will simulate n iid copies of $D_5; X_1, . . . , X_n$ and use as the estimate\n",
    "\n",
    "$$\\frac{1}{n} \\sum_{j=1}^n X_j$$\n",
    "You should use n = 100, then n = 1000, then n = 10, 000, then n = 50, 000, to see\n",
    "how it changes as n gets larger."
   ]
  },
  {
   "cell_type": "code",
   "execution_count": 43,
   "metadata": {
    "collapsed": false
   },
   "outputs": [
    {
     "name": "stdout",
     "output_type": "stream",
     "text": [
      "n = 100 : 0.19089323075\n",
      "n = 1000 : 0.266532959216\n",
      "n = 10000 : 0.245294534726\n",
      "n = 50000 : 0.25012906437\n"
     ]
    }
   ],
   "source": [
    "def monte_carlo_est(j,n):\n",
    "    vals = [ delay_time(j) for x in range(n)]\n",
    "    return sum(vals)/len(vals)\n",
    "for n in [100,1000,10000,50000]:\n",
    "    print \"n = %d :\" % n,monte_carlo_est(5,n)"
   ]
  }
 ],
 "metadata": {
  "kernelspec": {
   "display_name": "Python 2",
   "language": "python",
   "name": "python2"
  },
  "language_info": {
   "codemirror_mode": {
    "name": "ipython",
    "version": 2
   },
   "file_extension": ".py",
   "mimetype": "text/x-python",
   "name": "python",
   "nbconvert_exporter": "python",
   "pygments_lexer": "ipython2",
   "version": "2.7.6"
  }
 },
 "nbformat": 4,
 "nbformat_minor": 0
}
