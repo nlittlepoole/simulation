{
 "cells": [
  {
   "cell_type": "markdown",
   "metadata": {},
   "source": [
    "## Homework 4\n",
    "### Niger Little-Poole (nl2418)"
   ]
  },
  {
   "cell_type": "markdown",
   "metadata": {},
   "source": [
    "<B>1.</B> Consider the binomial lattice model in which $S_0 = 50$ (dollars per share), u = 1.2,d = .90, and p = 0.75. Consider a barrier call option in which the payoff at time T = 10\n",
    "is $(S_{10} − 60)^+$ as long as the price Sn never falls below (<) 43 at specific times n = 2, 4. Otherwise the payoff is 0. Thus the payoff $C_{10}$ can be written as\n",
    "$$ C_{10} = (S_{10} − 60)^+ *I(S_2 ≥ 43, and S_4 ≥ 43) $$\n",
    "where I{A} denotes the indicator rv for the event A.\n",
    "\n",
    "(a) Use Monte-Carlo simulation to estimate the probability that the payoff is 0:\n",
    "$P(C_{10} = 0)$\n",
    "\n",
    "Use n = 10, 000 for the number of copies generated\n"
   ]
  },
  {
   "cell_type": "code",
   "execution_count": 1,
   "metadata": {
    "collapsed": false
   },
   "outputs": [
    {
     "name": "stdout",
     "output_type": "stream",
     "text": [
      "8.31 %\n"
     ]
    }
   ],
   "source": [
    "import math\n",
    "import random\n",
    "\n",
    "def s_n(n,s,p,u,d):\n",
    "    for i in range(n):\n",
    "        r = random.random()\n",
    "        y = u if r<=p else d\n",
    "        s = s*y\n",
    "    return s\n",
    "def barrier_call_option(s,k,T,p,u,d):\n",
    "    prices = [s_n(x+1, s,p,u,d) for x in range(T)]\n",
    "    sn = prices[T-1]\n",
    "    return sn - k if sn > k and prices[1] >=43 and prices[3] >=43  else 0\n",
    "count = 0.0\n",
    "for i in range(10000):\n",
    "    count = count +1 if barrier_call_option(50,60,10,.75,1.2,.9) ==0 else count\n",
    "print 100* count/10000,\"%\""
   ]
  },
  {
   "cell_type": "markdown",
   "metadata": {},
   "source": [
    "(b) Suppose the risk-free interest rate r = 0.05. Compute the risk-neutral probability\n",
    "$p∗ = \\frac{(1 + r − d)}{(u − d)}$ and use it to estimate (via Monte Carlo) the price of this\n",
    "option; $$C_0 =\\frac{1}{(1 + r)^T}E^∗(C_T)$$\n",
    "\n",
    "Use n = 10, 000 for the number of copies generated."
   ]
  },
  {
   "cell_type": "code",
   "execution_count": 2,
   "metadata": {
    "collapsed": false
   },
   "outputs": [
    {
     "name": "stdout",
     "output_type": "stream",
     "text": [
      "$11.55\n"
     ]
    }
   ],
   "source": [
    "def option_price_barrier(s,k,N,T,r,u,d):\n",
    "    p = (1+r -d)/(u-d)\n",
    "    expected = sum([barrier_call_option(s,k,T,p,u,d) for x in range(N)])/N\n",
    "    return (1/math.pow(1+r, T) )* expected\n",
    "print \"$%.2f\" % option_price_barrier(50,60,10000,10,.05,1.2,.9)"
   ]
  },
  {
   "cell_type": "markdown",
   "metadata": {},
   "source": [
    "(c) Consider instead an Asian version of this barrier option; it has payoff\n",
    "$$ C_{10} = ( \\frac{1}{10} \\sum^1_{i=1} S_i − 60)^+ I(S2 ≥ 43, and S4 ≥ 43)$$\n",
    "Re-do your simulations to estimate $P(C_{10} = 0)$ and $C_0$ now."
   ]
  },
  {
   "cell_type": "code",
   "execution_count": 3,
   "metadata": {
    "collapsed": false
   },
   "outputs": [
    {
     "name": "stdout",
     "output_type": "stream",
     "text": [
      "8.51%\n",
      "$3.14\n"
     ]
    }
   ],
   "source": [
    "def asian_call_option(s,k,T,p,u,d):\n",
    "    prices = [s_n(x+1, s,p,u,d) for x in range(T)]\n",
    "    average = sum(prices) / T\n",
    "    return average - k if average > k and prices[1] >=43 and prices[3] >=43  else 0\n",
    "count = 0.0\n",
    "for i in range(10000):\n",
    "    count = count +1 if barrier_call_option(50,60,10,.75,1.2,.9) ==0 else count\n",
    "print str(100* count/10000)+\"%\"\n",
    "\n",
    "def option_price_asian(s,k,N,T,r,u,d):\n",
    "    p = (1+r -d)/(u-d)\n",
    "    expected = sum([asian_call_option(s,k,T,p,u,d) for x in range(N)])/N\n",
    "    return (1/math.pow(1+r, T) )* expected\n",
    "print \"$%.2f\" % option_price_asian(50,60,10000,10,.05,1.2,.9)"
   ]
  },
  {
   "cell_type": "markdown",
   "metadata": {},
   "source": [
    "<B>2.</B> Program up the Polar Method for generating pairs of independent $N(0, 1)$ rvs $(Z_1, Z_2) =(X, Y )$ Use the algorithm 500 times to generate 1000 iid copies of Z, denoted by $Z_1, Z_2, . . .$, so as to estimate $P(−1 ≤ Z ≤ 1)$ by using the Monte-Carlo estimate\n",
    "$$\\frac{1}{1000}\\sum^{1000}_{i=1}I(-1\\le Z_i \\le 1 )$$\n",
    "\n",
    "Recall from statistics that $P(−1 ≤ Z ≤ 1) = P(|Z| ≤ 1) = 0.6827...$ the probability that\n",
    "a normal is within 1 standard deviation from its mean. So your answer should be close\n",
    "to that."
   ]
  },
  {
   "cell_type": "code",
   "execution_count": 4,
   "metadata": {
    "collapsed": false
   },
   "outputs": [
    {
     "name": "stdout",
     "output_type": "stream",
     "text": [
      "0.689\n"
     ]
    }
   ],
   "source": [
    "def polar_method():\n",
    "    r = math.sqrt(-2*math.log(random.random()))\n",
    "    theta = random.random() *2* math.pi\n",
    "    x = r*math.cos(theta)\n",
    "    y = r*math.sin(theta)\n",
    "    return x,y\n",
    "count = 0.0\n",
    "for x in range(1000):\n",
    "    a = abs(polar_method()[1])\n",
    "    count = count + 1 if a <=1 else count\n",
    "print count/1000"
   ]
  },
  {
   "cell_type": "markdown",
   "metadata": {},
   "source": [
    "<B>3.</B> You will simulate the following simple Markov chain in what follows. The Markov chain\n",
    "${X_n : n ≥ 0}$ has only two states, $S = {0, 1}$, and transition matrix\n",
    "\n",
    "$$ P =\n",
    "\\begin{pmatrix}\n",
    "0.30 & 0.70\\\\\n",
    "0.50 & 0.50\\\\\n",
    "\\end{pmatrix}\n",
    "$$\n",
    "\n",
    "\n",
    "With $X_0 = 0$, simulate out to $n = 1000$ and estimate the long-run average:\n",
    "$$ a = \\lim_{N->\\infty}\\frac{1}{N}\\sum^N_{n=1}X_n$$\n",
    "\n",
    "by using as an estimate\n",
    "$$\\frac{1}{1000}\\sum^{1000}_{i=1}X_n$$\n",
    "\n",
    "(Note that the long-run average a is also the long-run proportion of times n that the chain\n",
    "visits state 1.)\n",
    "It can be proved that the exact answer is 7/12, so your answer should be close to that.\n"
   ]
  },
  {
   "cell_type": "code",
   "execution_count": 6,
   "metadata": {
    "collapsed": false
   },
   "outputs": [
    {
     "name": "stdout",
     "output_type": "stream",
     "text": [
      "Monte Carlo:  0.583374\n",
      "Actual: 0.583333333333\n"
     ]
    }
   ],
   "source": [
    "def transition(i, markov):\n",
    "    choices = markov[i]\n",
    "    u = random.random()\n",
    "    a = 0\n",
    "    b = 0\n",
    "    for j in range(len(choices)):\n",
    "        b = a + choices[j]\n",
    "        if u > a and u <= b:\n",
    "            return j\n",
    "        a = b\n",
    "    return -1\n",
    "def long_run(x,S,N):\n",
    "    vals = []\n",
    "    for n in range(N):\n",
    "        x = transition(x,S)\n",
    "        vals.append(x)\n",
    "    return 1.0*sum(vals)/len(vals)\n",
    "S = [[.3,.7], [.5,.5]]\n",
    "monte_carlo = sum([ long_run(0,S,1000) for x in range(1000)])/1000\n",
    "\n",
    "\n",
    "print \"Monte Carlo: \", monte_carlo\n",
    "print \"Actual:\", 7/12.0"
   ]
  }
 ],
 "metadata": {
  "kernelspec": {
   "display_name": "Python 2",
   "language": "python",
   "name": "python2"
  },
  "language_info": {
   "codemirror_mode": {
    "name": "ipython",
    "version": 2
   },
   "file_extension": ".py",
   "mimetype": "text/x-python",
   "name": "python",
   "nbconvert_exporter": "python",
   "pygments_lexer": "ipython2",
   "version": "2.7.6"
  }
 },
 "nbformat": 4,
 "nbformat_minor": 0
}
