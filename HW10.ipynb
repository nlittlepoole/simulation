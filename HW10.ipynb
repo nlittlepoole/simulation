{
 "cells": [
  {
   "cell_type": "markdown",
   "metadata": {},
   "source": [
    "## Niger Little-Poole\n",
    "### nl2418\n",
    "### HW10\n"
   ]
  },
  {
   "cell_type": "code",
   "execution_count": 1,
   "metadata": {
    "collapsed": true
   },
   "outputs": [],
   "source": [
    "import math\n",
    "import random"
   ]
  },
  {
   "cell_type": "markdown",
   "metadata": {},
   "source": [
    "<B>1.</B> Control Variates: Consider a GI/GI/1 FIFO queue in which interarrival times {Tn} are\n",
    "iid distributed as Unif(2, 6), and service times {Sn} are iid distributed as P(S ≤ x) =\n",
    "$1−e^{−√x}, x ≥ 0.$ ( Thus S has a Weibull distribution: Recall that you can generate it via\n",
    "generating K exponential at rate 1, and setting $S = K^2$\n",
    ".) Our objective is to estimate\n",
    "E(X) where\n",
    "$$ X =\\frac{1}{100} \\sum^{100}_{i=1} D_i $$\n",
    "\n",
    "the average delay over the first 100 customers. Here we assume D0 = 0 and use Dn+1 =\n",
    "(Dn + Sn − Tn)\n",
    "+. We note that each copy of X requires 100 copies of S, (S0, . . . , S99),\n",
    "and 100 copies of T, (T0, . . . , T99).\n",
    "\n",
    "<b>(a)</b> Generate n = 10, 000 iid copies of X and construct a 95% confidence interval for\n",
    "estimating E(X) using the so-called raw (standard) estimate\n",
    "$$ \\frac{1}{n} \\sum^{n}_{i=1} X_i $$"
   ]
  },
  {
   "cell_type": "code",
   "execution_count": 28,
   "metadata": {
    "collapsed": false
   },
   "outputs": [
    {
     "name": "stdout",
     "output_type": "stream",
     "text": [
      "n = 10000 : 4.17485111967 0.103113902071\n"
     ]
    }
   ],
   "source": [
    "def service_time():\n",
    "    u = random.random()\n",
    "    return math.pow(-1*math.log(u),2)\n",
    "def interarrival_time():\n",
    "    u = random.random()\n",
    "    return 4*u + 2\n",
    "\n",
    "\n",
    "def delay_time(n):\n",
    "    d_j = 0\n",
    "    total = 0.0\n",
    "    for i in range(n):\n",
    "        d_j = d_j + service_time() - interarrival_time()\n",
    "        d_j = d_j if d_j >0 else 0\n",
    "        total+= d_j\n",
    "    return total/n\n",
    "\n",
    "    \n",
    "def monte_carlo_avg(t,n):\n",
    "    vals = [ delay_time(t) for x in range(n)]\n",
    "    mean = sum(vals)/len(vals)\n",
    "    variance = sum([math.pow( mean - x,2 )for x in vals ])/(n-1)\n",
    "    return mean,variance\n",
    "\n",
    "n = 10000\n",
    "t = 100\n",
    "m, v = monte_carlo_avg(t,n)\n",
    "print \"n = %d :\" % n,m, math.sqrt(v)*1.96/math.sqrt(n)"
   ]
  },
  {
   "cell_type": "markdown",
   "metadata": {},
   "source": [
    "<B>(b)</B> For a control variate, we shall use\n",
    "$$ Z =  \\frac{1}{100} \\sum^{99}_{i=0} (S_i - T_i) $$\n",
    "\n",
    "the average of the very same 100 copies of Si − Ti that are used in the construction\n",
    "of the copy of X. Hence you will generate iid copies of Y = X + c(Z − E(Z)) for an\n",
    "appropriate value of c, and then construct a 95% confidence interval for estimating\n",
    "E(Y ) = E(X) using estimate (n = 10, 000 as before)\n",
    "$$  \\frac{1}{n} \\sum^{n}_{i=1} Y_i $$\n",
    "\n",
    "The following explains how you will do this:\n",
    "First compute $E(Z)$ and $σ^2_Z = Var(Z)$. Then estimate c∗the optimal value of c,\n",
    "\n",
    "$$ c∗ = − \\frac {Cov(X, Z)} {σ^2_Z}$$\n"
   ]
  },
  {
   "cell_type": "code",
   "execution_count": 22,
   "metadata": {
    "collapsed": false
   },
   "outputs": [
    {
     "name": "stdout",
     "output_type": "stream",
     "text": [
      "n = 5000 : -0.0437009236641 -1.9965465863\n"
     ]
    }
   ],
   "source": [
    "def delay_time_cv(n):\n",
    "    d_j = 0\n",
    "    total = 0.0\n",
    "    control = 0.0\n",
    "    for i in range(n):\n",
    "        s = service_time()\n",
    "        t =  interarrival_time()\n",
    "        d_j = d_j +  s -t\n",
    "        d_j = d_j if d_j >0 else 0\n",
    "        total+= d_j\n",
    "        control += s-t\n",
    "    return total/n, control/n\n",
    "\n",
    "    \n",
    "def monte_carlo_c_star(t,n):\n",
    "    vals = []\n",
    "    variates = []\n",
    "    for i in range(n):\n",
    "        val, cv = delay_time_cv(t)\n",
    "        vals.append(val)\n",
    "        variates.append(cv)\n",
    "        \n",
    "    mean = sum(vals)/len(vals)\n",
    "    mean_cv = sum(variates)/n\n",
    "    \n",
    "    variance = sum([math.pow( mean - x,2 )for x in vals ])/(n-1)\n",
    "    variance_cv =  sum([math.pow( mean - x,2 )for x in variates ])/(n-1)\n",
    "        \n",
    "    c_star = 0    \n",
    "    for i in range(n):\n",
    "        c_star += (vals[i] - mean) * (variates[i] - mean_cv)\n",
    "    c_star = -1* c_star / (n-1) / variance_cv\n",
    "    return c_star, mean_cv\n",
    "\n",
    "n = 5000\n",
    "t = 100\n",
    "C, ez= monte_carlo_c_star(t,n)\n",
    "print \"n = %d :\" % n, C,ez"
   ]
  },
  {
   "cell_type": "markdown",
   "metadata": {},
   "source": [
    "Finally use these to construct a 95% confidence interval for estimating $ E(Y ) = E(X)$"
   ]
  },
  {
   "cell_type": "code",
   "execution_count": 25,
   "metadata": {
    "collapsed": false
   },
   "outputs": [
    {
     "name": "stdout",
     "output_type": "stream",
     "text": [
      "n = 10000 : 4.044800681 0.09257765676\n"
     ]
    }
   ],
   "source": [
    "def delay_time_variates(n):\n",
    "    d_j = 0\n",
    "    total = 0.0\n",
    "    control = 0.0\n",
    "    for i in range(n):\n",
    "        s = service_time()\n",
    "        t =  interarrival_time()\n",
    "        d_j = d_j +  s -t\n",
    "        d_j = d_j if d_j >0 else 0\n",
    "        total+= d_j\n",
    "        control += s-t\n",
    "    x  = total/n\n",
    "    z = control/n\n",
    "    return x + C*(z - ez)\n",
    "\n",
    "def monte_carlo_variates(t,n):\n",
    "    vals = [ delay_time_variates(t) for x in range(n)]\n",
    "    mean = sum(vals)/len(vals)\n",
    "    variance = sum([math.pow( mean - x,2 )for x in vals ])/(n-1)\n",
    "    return mean,variance\n",
    "\n",
    "n = 10000\n",
    "t = 100\n",
    "m, v = monte_carlo_variates(t,n)\n",
    "print \"n = %d :\" % n,m, math.sqrt(v)*1.96/math.sqrt(n)"
   ]
  },
  {
   "cell_type": "code",
   "execution_count": null,
   "metadata": {
    "collapsed": true
   },
   "outputs": [],
   "source": []
  }
 ],
 "metadata": {
  "kernelspec": {
   "display_name": "Python 2",
   "language": "python",
   "name": "python2"
  },
  "language_info": {
   "codemirror_mode": {
    "name": "ipython",
    "version": 2
   },
   "file_extension": ".py",
   "mimetype": "text/x-python",
   "name": "python",
   "nbconvert_exporter": "python",
   "pygments_lexer": "ipython2",
   "version": "2.7.6"
  }
 },
 "nbformat": 4,
 "nbformat_minor": 0
}
